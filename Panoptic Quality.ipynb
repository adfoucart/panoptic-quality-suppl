{
 "cells": [
  {
   "cell_type": "markdown",
   "id": "64a4d9be",
   "metadata": {},
   "source": [
    "# Panoptic Quality : supplementary materials"
   ]
  },
  {
   "cell_type": "markdown",
   "id": "cf1ae24b",
   "metadata": {},
   "source": [
    "This notebook supplements the paper:\n",
    "\n",
    "A. Foucart, O. Debeir, C. Decaestecker. \"Why Panoptic Quality should be avoided as a metric for assessing cell nuclei segmentation and classification in digital pathology\", 2022."
   ]
  },
  {
   "cell_type": "markdown",
   "id": "ebfbe313",
   "metadata": {},
   "source": [
    "## Downloading and pre-processing the data\n",
    "\n",
    "To reproduce the results from this notebook, you need to:\n",
    "\n",
    "* Download the multi-rater evaluation dataset [CSV files]([Drive with CSV files](https://drive.google.com/drive/folders/16P04eKeX3n5oRx3MxODISXaRTbHU22U0))) from the [NuCLS challenge](https://sites.google.com/view/nucls/multi-rater?authuser=0) and put them in the \"./nucls_csv\" directory.\n",
    "* Download the MoNuSAC [test set annotations & teams predictions](https://monusac-2020.grand-challenge.org/Data/) and set them in the \"./monusac_annotations\" and \"./monusac_teams\" directories.\n",
    "* Generate \"nary masks\" from the MoNuSAC annotations & teams predictions for easier processing afterwards using the code below. This operation may take a while. Requires [Openslide](https://openslide.org/). "
   ]
  },
  {
   "cell_type": "code",
   "execution_count": null,
   "id": "7438c4cc",
   "metadata": {},
   "outputs": [],
   "source": [
    "from monusac import generate_nary_masks_from_annotations, generate_nary_masks_from_teams\n",
    "\n",
    "generate_nary_masks_from_annotations(\"./monusac_annotations\")\n",
    "generate_nary_masks_from_teams(\"./monusac_teams\")"
   ]
  },
  {
   "cell_type": "markdown",
   "id": "53cfc167",
   "metadata": {},
   "source": [
    "## 1. NuCLS"
   ]
  },
  {
   "cell_type": "code",
   "execution_count": null,
   "id": "1335f37f",
   "metadata": {},
   "outputs": [],
   "source": [
    "%matplotlib inline\n",
    "from matplotlib import pyplot as plt\n",
    "from nucls import load_annotations, match_experts\n",
    "\n",
    "NUCLS_PATH = \"./nucls_csv\"\n",
    "\n",
    "annotations, all_slides = load_annotations(NUCLS_PATH)\n",
    "matches = match_experts(annotations, all_slides)"
   ]
  },
  {
   "cell_type": "code",
   "execution_count": null,
   "id": "797106e9",
   "metadata": {},
   "outputs": [],
   "source": [
    "bins = [0, 500, 1000, 1500, 2000, 5000]\n",
    "binned = [[] for _ in bins[1:]]\n",
    "\n",
    "for match in matches:\n",
    "    for i,b in enumerate(bins[1:]):\n",
    "        if match.area < b:\n",
    "            binned[i].append(match.iou)\n",
    "            break\n",
    "            \n",
    "plt.figure(figsize=(15,6))\n",
    "plt.boxplot(binned)\n",
    "plt.xticks(range(1, 6), [f'[{bins[i-1]},{bins[i]}[' for i in range(1, len(bins))])\n",
    "plt.xlabel('Area (px)')\n",
    "plt.ylabel('IoU')\n",
    "plt.show()"
   ]
  },
  {
   "cell_type": "code",
   "execution_count": null,
   "id": "69a196bc",
   "metadata": {},
   "outputs": [],
   "source": [
    "from skimage.measure import find_contours\n",
    "from skimage.io import imread\n",
    "import os\n",
    "from metrics import compute_iou, compute_hd\n",
    "\n",
    "path_single = \"./example_single_cell\"\n",
    "\n",
    "rgb = imread(os.path.join(path_single, 'rgb.png'))\n",
    "gt = imread(os.path.join(path_single, 'gt.png'))>0\n",
    "seg_1 = imread(os.path.join(path_single, 'seg_1.png'))>0\n",
    "seg_2 = imread(os.path.join(path_single, 'seg_2.png'))>0\n",
    "seg_3 = imread(os.path.join(path_single, 'seg_3.png'))>0\n",
    "seg_4 = imread(os.path.join(path_single, 'seg_4.png'))>0\n",
    "\n",
    "ref_contours = find_contours(gt)[0]\n",
    "\n",
    "plt.figure(figsize=(15,5))\n",
    "plt.subplot(1, 5, 1)\n",
    "plt.imshow(rgb)\n",
    "for i,mask in enumerate([seg_1, seg_2, seg_3, seg_4]):\n",
    "    contours = find_contours(mask)[0]\n",
    "    plt.subplot(1, 5, i+2)\n",
    "    plt.imshow(rgb)\n",
    "    plt.plot(ref_contours[:, 1], ref_contours[:, 0], 'b-')\n",
    "    plt.plot(contours[:, 1], contours[:, 0], 'k--')\n",
    "    plt.title(f'IoU={compute_iou(gt, mask):.2f}')\n",
    "plt.show()"
   ]
  },
  {
   "cell_type": "code",
   "execution_count": null,
   "id": "f398a963",
   "metadata": {},
   "outputs": [],
   "source": [
    "plt.figure(figsize=(15,7))\n",
    "for match in matches:\n",
    "    plt.plot(match.iou, match.hd, 'b+')\n",
    "plt.plot([0, 1], [3, 3], 'k-')\n",
    "plt.text(0, 4, 'HD=3')\n",
    "plt.xlabel('IoU')\n",
    "plt.ylabel('HD')\n",
    "plt.show()"
   ]
  },
  {
   "cell_type": "markdown",
   "id": "941caf3c",
   "metadata": {},
   "source": [
    "## 2. MoNuSAC experiments"
   ]
  },
  {
   "cell_type": "code",
   "execution_count": null,
   "id": "4f2d084a",
   "metadata": {},
   "outputs": [],
   "source": [
    "from monusac import get_all_nuclei\n",
    "\n",
    "MONUSAC_ANNOTATIONS_PATH = \"./monusac_annotations/\"\n",
    "MONUSAC_TEAMS_PATH = \"./monusac_teams/\"\n",
    "\n",
    "nuclei = get_all_nuclei(MONUSAC_ANNOTATIONS_PATH)"
   ]
  },
  {
   "cell_type": "markdown",
   "id": "f314ee36",
   "metadata": {},
   "source": [
    "Experiment on all nuclei: eroded, dilated and shifted"
   ]
  },
  {
   "cell_type": "code",
   "execution_count": null,
   "id": "ba651ccd",
   "metadata": {},
   "outputs": [],
   "source": [
    "from skimage.morphology import erosion, dilation, disk\n",
    "from tqdm import tqdm\n",
    "import numpy as np\n",
    "from metrics import compute_iou, compute_hd\n",
    "\n",
    "se = disk(1)\n",
    "\n",
    "ious = {}\n",
    "\n",
    "for cl_type, cl_nuclei in nuclei.items():\n",
    "    ious[cl_type] = []\n",
    "    for nucleus in tqdm(cl_nuclei):\n",
    "        eroded = erosion(nucleus.mask, se)\n",
    "        dilated = dilation(nucleus.mask, se)\n",
    "        shifted = np.zeros_like(nucleus.mask)\n",
    "        shifted[1:] = nucleus.mask[:-1]\n",
    "        ious[cl_type].append((compute_iou(nucleus.mask, eroded),\n",
    "                              compute_iou(nucleus.mask, dilated),\n",
    "                              compute_iou(nucleus.mask, shifted),\n",
    "                              nucleus.area))"
   ]
  },
  {
   "cell_type": "code",
   "execution_count": null,
   "id": "def9347a",
   "metadata": {},
   "outputs": [],
   "source": [
    "from matplotlib import pyplot as plt\n",
    "%matplotlib inline\n",
    "\n",
    "plt.figure(figsize=(10,5))\n",
    "plt.boxplot([[iou[3] for iou in ious[cl]] for cl in ious])\n",
    "plt.xticks([1, 2, 3, 4], [cl for cl in ious])\n",
    "plt.ylabel('Area (px)')\n",
    "plt.show()"
   ]
  },
  {
   "cell_type": "code",
   "execution_count": null,
   "id": "1eaabeb6",
   "metadata": {},
   "outputs": [],
   "source": [
    "print(\"Median and interquartile range:\")\n",
    "for cl in ious:\n",
    "    areas = [iou[3] for iou in ious[cl]]\n",
    "    areas.sort()\n",
    "    q25 = int(0.25*len(areas))\n",
    "    q75 = int(0.75*len(areas))\n",
    "    print(f\"{cl}: {np.median(areas)} [{areas[q25]} - {areas[q75]}]\")\n",
    "    "
   ]
  },
  {
   "cell_type": "code",
   "execution_count": null,
   "id": "ef63bc38",
   "metadata": {},
   "outputs": [],
   "source": [
    "plt.figure(figsize=(20,5))\n",
    "plt.boxplot([[iou[0] for iou in ious[cl]] for cl in ious], positions=[1, 5, 9, 13], showfliers=False)\n",
    "plt.boxplot([[iou[1] for iou in ious[cl]] for cl in ious], positions=[2, 6, 10, 14], showfliers=False)\n",
    "plt.boxplot([[iou[2] for iou in ious[cl]] for cl in ious], positions=[3, 7, 11, 15], showfliers=False)\n",
    "plt.xticks([1, 2, 3, 5, 6, 7, 9, 10, 11, 13, 14, 15], ['Ee', 'Ed', 'Es', 'Le', 'Ld', 'Ls', 'Ne', 'Nd', 'Ns', 'Me', 'Md', 'Ms'])\n",
    "plt.ylabel('IoU')\n",
    "plt.show()"
   ]
  },
  {
   "cell_type": "code",
   "execution_count": null,
   "id": "9aae73ce",
   "metadata": {},
   "outputs": [],
   "source": [
    "print(\"Median and interquartile range:\")\n",
    "for cl in ious:\n",
    "    e = [iou[0] for iou in ious[cl]]\n",
    "    d = [iou[1] for iou in ious[cl]]\n",
    "    s = [iou[2] for iou in ious[cl]]\n",
    "    e.sort()\n",
    "    d.sort()\n",
    "    s.sort()\n",
    "    \n",
    "    q25 = int(0.25*len(e))\n",
    "    q75 = int(0.75*len(e))\n",
    "    \n",
    "    print(cl)\n",
    "    print(f\"Eroded: {np.median(e):.2f} [{e[q25]:.2f} - {e[q75]:.2f}]\")\n",
    "    print(f\"Dilated: {np.median(d):.2f} [{d[q25]:.2f} - {d[q75]:.2f}]\")\n",
    "    print(f\"Shifted: {np.median(s):.2f} [{s[q25]:.2f} - {s[q75]:.2f}]\")"
   ]
  },
  {
   "cell_type": "markdown",
   "id": "5067bbff",
   "metadata": {},
   "source": [
    "Simulating what would happen at 20x instead of 40x"
   ]
  },
  {
   "cell_type": "code",
   "execution_count": null,
   "id": "4a1e9ef1",
   "metadata": {},
   "outputs": [],
   "source": [
    "from skimage.morphology import erosion, dilation, disk\n",
    "from skimage.transform import downscale_local_mean\n",
    "from tqdm import tqdm\n",
    "import numpy as np\n",
    "from metrics import compute_iou, compute_hd\n",
    "\n",
    "se = disk(1)\n",
    "\n",
    "ious = {}\n",
    "\n",
    "for cl_type, cl_nuclei in nuclei.items():\n",
    "    ious[cl_type] = []\n",
    "    for nucleus in tqdm(cl_nuclei):\n",
    "        mask = downscale_local_mean(nucleus.mask, (2, 2))>0\n",
    "        eroded = erosion(mask, se)\n",
    "        dilated = dilation(mask, se)\n",
    "        shifted = np.zeros_like(mask)\n",
    "        shifted[1:] = mask[:-1]\n",
    "        ious[cl_type].append((compute_iou(mask, eroded),\n",
    "                              compute_iou(mask, dilated),\n",
    "                              compute_iou(mask, shifted),\n",
    "                              mask.sum()))"
   ]
  },
  {
   "cell_type": "code",
   "execution_count": null,
   "id": "987beaff",
   "metadata": {},
   "outputs": [],
   "source": [
    "from matplotlib import pyplot as plt\n",
    "%matplotlib inline\n",
    "\n",
    "plt.figure(figsize=(10,5))\n",
    "plt.boxplot([[iou[3] for iou in ious[cl]] for cl in ious])\n",
    "plt.xticks([1, 2, 3, 4], [cl for cl in ious])\n",
    "plt.ylabel('Area (px)')\n",
    "plt.show()"
   ]
  },
  {
   "cell_type": "code",
   "execution_count": null,
   "id": "91246cf6",
   "metadata": {},
   "outputs": [],
   "source": [
    "print(\"Median and interquartile range:\")\n",
    "for cl in ious:\n",
    "    areas = [iou[3] for iou in ious[cl]]\n",
    "    areas.sort()\n",
    "    q25 = int(0.25*len(areas))\n",
    "    q75 = int(0.75*len(areas))\n",
    "    print(f\"{cl}: {np.median(areas)} [{areas[q25]} - {areas[q75]}]\")"
   ]
  },
  {
   "cell_type": "code",
   "execution_count": null,
   "id": "80c70f65",
   "metadata": {},
   "outputs": [],
   "source": [
    "plt.figure(figsize=(20,5))\n",
    "plt.boxplot([[iou[0] for iou in ious[cl]] for cl in ious], positions=[1, 5, 9, 13], showfliers=False)\n",
    "plt.boxplot([[iou[1] for iou in ious[cl]] for cl in ious], positions=[2, 6, 10, 14], showfliers=False)\n",
    "plt.boxplot([[iou[2] for iou in ious[cl]] for cl in ious], positions=[3, 7, 11, 15], showfliers=False)\n",
    "plt.xticks([1, 2, 3, 5, 6, 7, 9, 10, 11, 13, 14, 15], ['Ee', 'Ed', 'Es', 'Le', 'Ld', 'Ls', 'Ne', 'Nd', 'Ns', 'Me', 'Md', 'Ms'])\n",
    "plt.ylabel('IoU')\n",
    "plt.show()"
   ]
  },
  {
   "cell_type": "code",
   "execution_count": null,
   "id": "37f034e4",
   "metadata": {},
   "outputs": [],
   "source": [
    "print(\"Median and interquartile range:\")\n",
    "for cl in ious:\n",
    "    e = [iou[0] for iou in ious[cl]]\n",
    "    d = [iou[1] for iou in ious[cl]]\n",
    "    s = [iou[2] for iou in ious[cl]]\n",
    "    e.sort()\n",
    "    d.sort()\n",
    "    s.sort()\n",
    "    \n",
    "    q25 = int(0.25*len(e))\n",
    "    q75 = int(0.75*len(e))\n",
    "    \n",
    "    print(cl)\n",
    "    print(f\"Eroded: {np.median(e):.2f} [{e[q25]:.2f} - {e[q75]:.2f}]\")\n",
    "    print(f\"Dilated: {np.median(d):.2f} [{d[q25]:.2f} - {d[q75]:.2f}]\")\n",
    "    print(f\"Shifted: {np.median(s):.2f} [{s[q25]:.2f} - {s[q75]:.2f}]\")"
   ]
  },
  {
   "cell_type": "markdown",
   "id": "d772bd79",
   "metadata": {},
   "source": [
    "Checking the results of the different team per nucleus:"
   ]
  },
  {
   "cell_type": "code",
   "execution_count": null,
   "id": "b50355bd",
   "metadata": {},
   "outputs": [],
   "source": [
    "from matplotlib import pyplot as plt\n",
    "%matplotlib inline\n",
    "from monusac import show_nucleus_team_comparison\n",
    "\n",
    "# Checking results for a single nucleus:\n",
    "to_show = [\n",
    "    ['Epithelial', 2],\n",
    "    ['Lymphocyte', 15],\n",
    "    ['Neutrophil', 5],\n",
    "    ['Macrophage', 28]\n",
    "]\n",
    "# Epithelial - 2 -> IoU < 0.5 for very good segmentation\n",
    "# Lymphocyte - 15 -> bad IoU for good segmentation + better IoU for worse shape\n",
    "# Neutrophil - 5 -> nearly identical segmentation, large range of scores\n",
    "# Macrophage - 28 -> class mismatch means worse PQ than missed detection\n",
    "\n",
    "for cl, idn in to_show:\n",
    "    show_nucleus_team_comparison(MONUSAC_TEAMS_PATH, nuclei, cl, idn)"
   ]
  },
  {
   "cell_type": "code",
   "execution_count": null,
   "id": "2d327a53",
   "metadata": {},
   "outputs": [],
   "source": [
    "from monusac import show_matches_under_threshold\n",
    "\n",
    "image_file = \"TCGA-2Z-A9JG-01Z-00-DX1\\TCGA-2Z-A9JG-01Z-00-DX1_4\"\n",
    "idt = 3\n",
    "\n",
    "show_matches_under_threshold(image_file, idt, MONUSAC_TEAMS_PATH, MONUSAC_ANNOTATIONS_PATH)"
   ]
  },
  {
   "cell_type": "markdown",
   "id": "088ab907",
   "metadata": {},
   "source": [
    "Full PQ computation from an example with many nuclei:"
   ]
  },
  {
   "cell_type": "code",
   "execution_count": null,
   "id": "c8ad847e",
   "metadata": {},
   "outputs": [],
   "source": [
    "from monusac import find_image_with_most_nuclei, match_best_iou\n",
    "\n",
    "n, path = find_image_with_most_nuclei(nuclei)\n",
    "print(f\"Most nuclei in image: {path} ({n=})\")"
   ]
  },
  {
   "cell_type": "code",
   "execution_count": null,
   "id": "d6c5d595",
   "metadata": {},
   "outputs": [],
   "source": [
    "from skimage.io import imread\n",
    "%matplotlib inline\n",
    "from matplotlib import pyplot as plt\n",
    "import numpy as np\n",
    "\n",
    "im = imread(f\"{path}.tif\")\n",
    "nary = np.load(f\"{path}_nary.npy\")\n",
    "# remove \"ambiguous\" regions\n",
    "mask_ambiguous = nary[..., 1]==5\n",
    "nary[mask_ambiguous, 1] = 0\n",
    "nary[mask_ambiguous, 0] = 0\n",
    "im[mask_ambiguous, 3] = 0\n",
    "\n",
    "plt.figure(figsize=(20,10))\n",
    "plt.imshow(im)\n",
    "plt.contour(nary[..., 1]==1, linewidths=0.5, alpha=1, colors=['yellow'])\n",
    "plt.contour(nary[..., 1]==2, linewidths=0.5, alpha=1, colors=['blue'])\n",
    "plt.show()"
   ]
  },
  {
   "cell_type": "markdown",
   "id": "2507a936",
   "metadata": {},
   "source": [
    "Creating synthetic \"predictions\" by either removing full objects (\"detection errors\"), or eroding the objects (\"segmentation errors\"):"
   ]
  },
  {
   "cell_type": "code",
   "execution_count": null,
   "id": "12c627b4",
   "metadata": {},
   "outputs": [],
   "source": [
    "pred_d = np.zeros_like(nary)\n",
    "\n",
    "# randomly remove 40% of the objects\n",
    "np.random.seed(5)\n",
    "r = np.random.random((len(np.unique(nary[..., 0]))))\n",
    "newi = 0\n",
    "for i in np.unique(nary[..., 0]):\n",
    "    if i == 0:\n",
    "        continue\n",
    "    if r[i] > 0.4:\n",
    "        newi += 1\n",
    "        pred_d[nary[..., 0]==i, 0] = newi\n",
    "        pred_d[nary[..., 0]==i, 1] = nary[nary[..., 0]==i, 1].max()"
   ]
  },
  {
   "cell_type": "code",
   "execution_count": null,
   "id": "8faaeb57",
   "metadata": {},
   "outputs": [],
   "source": [
    "from skimage.morphology import disk, erosion\n",
    "from tqdm import tqdm\n",
    "\n",
    "pred_s = np.zeros_like(nary)\n",
    "\n",
    "# Remove small part of each object\n",
    "for i in tqdm(np.unique(nary[..., 0])):\n",
    "    if i == 0:\n",
    "        continue\n",
    "    area = (nary[..., 0]==i).sum()\n",
    "    r = int(np.round(np.sqrt(area/np.pi)*0.15))\n",
    "    mask = erosion(nary[..., 0]==i, disk(r))\n",
    "    pred_s[mask, 0] = i\n",
    "    pred_s[mask, 1] = nary[nary[..., 0]==i, 1].max()"
   ]
  },
  {
   "cell_type": "code",
   "execution_count": null,
   "id": "90c4c956",
   "metadata": {},
   "outputs": [],
   "source": [
    "matches_d = match_best_iou(nary, pred_d)\n",
    "matches_s = match_best_iou(nary, pred_s)"
   ]
  },
  {
   "cell_type": "code",
   "execution_count": null,
   "id": "1eff1a1b",
   "metadata": {},
   "outputs": [],
   "source": [
    "from metrics import compute_panoptic_quality\n",
    "pq_d = compute_panoptic_quality(matches_d)\n",
    "pq_s = compute_panoptic_quality(matches_s)"
   ]
  },
  {
   "cell_type": "code",
   "execution_count": null,
   "id": "21914abd",
   "metadata": {},
   "outputs": [],
   "source": [
    "print(f\"Kept {100*(len(np.unique(pred_d[..., 0]))-1)/(len(np.unique(nary[..., 0]))-1):.1f}% of the objects for detection errors\")\n",
    "print(f\"Kept {100*(pred_s[..., 0]>0).sum()/(nary[..., 0]>0).sum():.1f}% of the objects area for segmentation errors\")"
   ]
  },
  {
   "cell_type": "markdown",
   "id": "8e17cf71",
   "metadata": {},
   "source": [
    "Results for the \"detection errors\" predictions:"
   ]
  },
  {
   "cell_type": "code",
   "execution_count": null,
   "id": "96f41dbf",
   "metadata": {},
   "outputs": [],
   "source": [
    "print(f\"PQ = {pq_d['PQ']:.2f}\")\n",
    "print(f\"RQc = {pq_d['RQc']}\")\n",
    "print(f\"SQc = {pq_d['SQc']}\")"
   ]
  },
  {
   "cell_type": "markdown",
   "id": "288c6dcb",
   "metadata": {},
   "source": [
    "Results for the \"segmentation errors\" predictions"
   ]
  },
  {
   "cell_type": "code",
   "execution_count": null,
   "id": "849c84b4",
   "metadata": {},
   "outputs": [],
   "source": [
    "print(f\"PQ = {pq_s['PQ']:.2f}\")\n",
    "print(f\"RQc = {pq_s['RQc']}\")\n",
    "print(f\"SQc = {pq_s['SQc']}\")"
   ]
  },
  {
   "cell_type": "markdown",
   "id": "60667cd7",
   "metadata": {},
   "source": [
    "Visual comparison of the results"
   ]
  },
  {
   "cell_type": "code",
   "execution_count": null,
   "id": "5e4daf16",
   "metadata": {},
   "outputs": [],
   "source": [
    "plt.figure(figsize=(20,20))\n",
    "plt.subplot(1, 3, 1)\n",
    "plt.imshow(im)\n",
    "plt.contour(pred_d[..., 1]==1, linewidths=0.5, alpha=1, colors=['yellow'])\n",
    "plt.contour(pred_d[..., 1]==2, linewidths=0.5, alpha=1, colors=['blue'])\n",
    "plt.title(f\"PQ={pq_d['PQ']:.2f} (detection errors)\")\n",
    "plt.subplot(1, 3, 2)\n",
    "plt.imshow(im)\n",
    "plt.contour(nary[..., 1]==1, linewidths=0.5, alpha=1, colors=['yellow'])\n",
    "plt.contour(nary[..., 1]==2, linewidths=0.5, alpha=1, colors=['blue'])\n",
    "plt.title('Reference')\n",
    "plt.subplot(1, 3, 3)\n",
    "plt.imshow(im)\n",
    "plt.contour(pred_s[..., 1]==1, linewidths=0.5, alpha=1, colors=['yellow'])\n",
    "plt.contour(pred_s[..., 1]==2, linewidths=0.5, alpha=1, colors=['blue'])\n",
    "plt.title(f\"PQ={pq_s['PQ']:.2f} (segmentation errors)\")\n",
    "plt.show()"
   ]
  }
 ],
 "metadata": {
  "kernelspec": {
   "display_name": "Python 3 (ipykernel)",
   "language": "python",
   "name": "python3"
  },
  "language_info": {
   "codemirror_mode": {
    "name": "ipython",
    "version": 3
   },
   "file_extension": ".py",
   "mimetype": "text/x-python",
   "name": "python",
   "nbconvert_exporter": "python",
   "pygments_lexer": "ipython3",
   "version": "3.10.6"
  }
 },
 "nbformat": 4,
 "nbformat_minor": 5
}
